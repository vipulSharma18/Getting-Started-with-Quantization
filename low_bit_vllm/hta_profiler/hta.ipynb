{
 "cells": [
  {
   "cell_type": "code",
   "execution_count": null,
   "id": "0a2adf68",
   "metadata": {
    "vscode": {
     "languageId": "plaintext"
    }
   },
   "outputs": [],
   "source": [
    "# Example code: https://github.com/facebookresearch/HolisticTraceAnalysis/tree/main/examples"
   ]
  },
  {
   "cell_type": "code",
   "execution_count": null,
   "id": "8d7ff16e",
   "metadata": {
    "vscode": {
     "languageId": "plaintext"
    }
   },
   "outputs": [],
   "source": [
    "from hta.trace_analysis import TraceAnalysis\n",
    "analyzer = TraceAnalysis(trace_dir = \"./log/gemlite\")"
   ]
  },
  {
   "cell_type": "code",
   "execution_count": null,
   "id": "36cd14cc",
   "metadata": {
    "vscode": {
     "languageId": "plaintext"
    }
   },
   "outputs": [],
   "source": [
    "# Temporal breakdown\n",
    "temporal_breakdown_df = analyzer.get_temporal_breakdown()\n",
    "\n",
    "# Idle time breakdown\n",
    "idle_time_df = analyzer.get_idle_time_breakdown()\n",
    "\n",
    "# Kernel breakdown\n",
    "kernel_breakdown_df = analyzer.get_gpu_kernel_breakdown()\n",
    "\n",
    "# Communication computation overlap\n",
    "comm_comp_overlap_df = analyzer.get_comm_comp_overlap()\n",
    "\n",
    "# Memory bandwidth time series\n",
    "memory_bw_series = analyzer.get_memory_bw_time_series()\n",
    "\n",
    "# Memory bandwidth summary\n",
    "memory_bw_summary = analyzer.get_memory_bw_summary()\n",
    "\n",
    "# Queue length time series\n",
    "ql_series = analyzer.get_queue_length_time_series()\n",
    "\n",
    "# Queue length summary\n",
    "ql_summary = analyzer.get_queue_length_summary()\n",
    "\n",
    "# CUDA kernel launch statistics\n",
    "cuda_kernel_launch_stats = analyzer.get_cuda_kernel_launch_stats()\n",
    "\n",
    "# Frequent CUDA kernel sequences\n",
    "frequent_patterns_df = analyzer.get_frequent_cuda_kernel_sequences(operator_name=\"aten::linear\",\n",
    "                                                                  output_dir=\"/output/trace/path\"\n",
    "                                                                 )"
   ]
  }
 ],
 "metadata": {
  "language_info": {
   "name": "python"
  }
 },
 "nbformat": 4,
 "nbformat_minor": 5
}
